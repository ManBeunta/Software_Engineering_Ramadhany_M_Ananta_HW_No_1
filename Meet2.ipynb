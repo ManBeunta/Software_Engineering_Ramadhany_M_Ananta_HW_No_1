{
  "nbformat": 4,
  "nbformat_minor": 0,
  "metadata": {
    "colab": {
      "name": "Meet2.ipynb",
      "provenance": []
    },
    "kernelspec": {
      "name": "python3",
      "display_name": "Python 3"
    },
    "language_info": {
      "name": "python"
    }
  },
  "cells": [
    {
      "cell_type": "code",
      "metadata": {
        "id": "TR_cdC8Bn90c"
      },
      "source": [
        "#methode_list\n",
        "list_angka = [1,4,3,5,7]"
      ],
      "execution_count": null,
      "outputs": []
    },
    {
      "cell_type": "code",
      "metadata": {
        "colab": {
          "base_uri": "https://localhost:8080/"
        },
        "id": "8vw3fJDJpfl_",
        "outputId": "11e63d43-a3c9-410c-ff2f-e3c7dedfe0c2"
      },
      "source": [
        "#sort\n",
        "list_angka.sort()\n",
        "list_angka"
      ],
      "execution_count": null,
      "outputs": [
        {
          "output_type": "execute_result",
          "data": {
            "text/plain": [
              "[1, 3, 4, 5, 7]"
            ]
          },
          "metadata": {},
          "execution_count": 2
        }
      ]
    },
    {
      "cell_type": "code",
      "metadata": {
        "colab": {
          "base_uri": "https://localhost:8080/"
        },
        "id": "p9wgu6VcplX9",
        "outputId": "a0113d98-2730-4183-a50e-eb89b956d6fb"
      },
      "source": [
        "#append nambahin index paling akhir\n",
        "list_angka.append(\"Rama\")\n",
        "list_angka"
      ],
      "execution_count": null,
      "outputs": [
        {
          "output_type": "execute_result",
          "data": {
            "text/plain": [
              "[1, 4, 3, 7, 'Rama']"
            ]
          },
          "metadata": {},
          "execution_count": 15
        }
      ]
    },
    {
      "cell_type": "code",
      "metadata": {
        "colab": {
          "base_uri": "https://localhost:8080/"
        },
        "id": "gWSJ029ppwAn",
        "outputId": "871d33d3-ea3c-4e7a-b196-b30caa2ca0ff"
      },
      "source": [
        "#insert nambah index\n",
        "list_angka.insert(3, \"Zakkia\")\n",
        "list_angka"
      ],
      "execution_count": null,
      "outputs": [
        {
          "output_type": "execute_result",
          "data": {
            "text/plain": [
              "[1, 3, 4, 'Zakkia', 5, 7, 'Rama']"
            ]
          },
          "metadata": {},
          "execution_count": 4
        }
      ]
    },
    {
      "cell_type": "code",
      "metadata": {
        "id": "K77LSckEp-ih"
      },
      "source": [
        ""
      ],
      "execution_count": null,
      "outputs": []
    },
    {
      "cell_type": "code",
      "metadata": {
        "colab": {
          "base_uri": "https://localhost:8080/"
        },
        "id": "7Z-bYcRdp-jb",
        "outputId": "50ee1491-7acf-4491-a8a2-2bd95768cab6"
      },
      "source": [
        "#pop hilangin index paling akhir\n",
        "list_angka.pop()\n",
        "list_angka"
      ],
      "execution_count": null,
      "outputs": [
        {
          "output_type": "execute_result",
          "data": {
            "text/plain": [
              "[1, 3, 4, 'Zakkia', 5, 7]"
            ]
          },
          "metadata": {},
          "execution_count": 5
        }
      ]
    },
    {
      "cell_type": "code",
      "metadata": {
        "colab": {
          "base_uri": "https://localhost:8080/"
        },
        "id": "3iRW6RfcqJFR",
        "outputId": "65ed4149-3fb8-429c-8caf-fbb9e48a70dd"
      },
      "source": [
        "#remove menghilangkan isi index\n",
        "list_angka.remove(7)\n",
        "list_angka"
      ],
      "execution_count": null,
      "outputs": [
        {
          "output_type": "execute_result",
          "data": {
            "text/plain": [
              "[1, 3, 4, 'Zakkia']"
            ]
          },
          "metadata": {},
          "execution_count": 12
        }
      ]
    },
    {
      "cell_type": "code",
      "metadata": {
        "colab": {
          "base_uri": "https://localhost:8080/"
        },
        "id": "jT3Zg7DCqm5S",
        "outputId": "575bb57a-ebce-4dc6-9821-814d34c84e73"
      },
      "source": [
        "list_angka = [1,4,3,5,7]\n",
        "list_angka.remove(list_angka[-2])\n",
        "list_angka"
      ],
      "execution_count": null,
      "outputs": [
        {
          "output_type": "execute_result",
          "data": {
            "text/plain": [
              "[1, 4, 3, 7]"
            ]
          },
          "metadata": {},
          "execution_count": 14
        }
      ]
    },
    {
      "cell_type": "code",
      "metadata": {
        "colab": {
          "base_uri": "https://localhost:8080/"
        },
        "id": "pqpXfJzbrZS1",
        "outputId": "da02c06f-8317-4e0d-a846-7cca3b7570cf"
      },
      "source": [
        "contoh_dict = {2:\"Ramadhany\", \"Dua belas\":12, False:12.0, 3.0:['Eko', 'patrio'], \"Dict\":{}, 333:(), \"Boolean\":True}\n",
        "print(contoh_dict)"
      ],
      "execution_count": null,
      "outputs": [
        {
          "output_type": "stream",
          "name": "stdout",
          "text": [
            "{2: 'Ramadhany', 'Dua belas': 12, False: 12.0, 3.0: ['Eko', 'patrio'], 'Dict': {}, 333: (), 'Boolean': True}\n"
          ]
        }
      ]
    },
    {
      "cell_type": "code",
      "metadata": {
        "id": "MDZSc5LgsLW5"
      },
      "source": [
        "contoh_dict[\"Negara\"] = \"Indonesia\""
      ],
      "execution_count": null,
      "outputs": []
    },
    {
      "cell_type": "code",
      "metadata": {
        "colab": {
          "base_uri": "https://localhost:8080/"
        },
        "id": "DCP6QhWvsTQQ",
        "outputId": "672caf4d-7220-4495-986d-b1a6c8d0d6df"
      },
      "source": [
        "print(contoh_dict)"
      ],
      "execution_count": null,
      "outputs": [
        {
          "output_type": "stream",
          "name": "stdout",
          "text": [
            "{2: 'Ramadhany', 'Dua belas': 12, False: 12.0, 3.0: ['Eko', 'patrio'], 'Dict': {}, 333: (), 'Boolean': True, 'Negara': 'Indonesia'}\n"
          ]
        }
      ]
    },
    {
      "cell_type": "code",
      "metadata": {
        "colab": {
          "base_uri": "https://localhost:8080/"
        },
        "id": "7vWXw8r2sWAE",
        "outputId": "43663425-2a28-4aad-9844-5017224ceaa7"
      },
      "source": [
        "contoh_dict = {2:\"Ramadhany\", \"Dua belas\":12, False:12.0, 3.0:['Eko', 'patrio'], \"Dict\":{}, 333:(), \"Boolean\":True}\n",
        "print(contoh_dict)"
      ],
      "execution_count": null,
      "outputs": [
        {
          "output_type": "stream",
          "name": "stdout",
          "text": [
            "{2: 'Ramadhany', 'Dua belas': 12, False: 12.0, 3.0: ['Eko', 'patrio'], 'Dict': {}, 333: (), 'Boolean': True}\n"
          ]
        }
      ]
    },
    {
      "cell_type": "code",
      "metadata": {
        "colab": {
          "base_uri": "https://localhost:8080/"
        },
        "id": "e-0bFpsFtXHY",
        "outputId": "d74c64f9-68e8-4ba8-ac90-eb5d000e7f6d"
      },
      "source": [
        "contoh_dict[\"Negara\"] = [\"Indonesia\"]\n",
        "print(contoh_dict)"
      ],
      "execution_count": null,
      "outputs": [
        {
          "output_type": "stream",
          "name": "stdout",
          "text": [
            "{2: 'Ramadhany', 'Dua belas': 12, False: 12.0, 3.0: ['Eko', 'patrio'], 'Dict': {}, 333: (), 'Boolean': True, 'Negara': ['Indonesia']}\n"
          ]
        }
      ]
    },
    {
      "cell_type": "code",
      "metadata": {
        "colab": {
          "base_uri": "https://localhost:8080/"
        },
        "id": "Kivbjui0tdtV",
        "outputId": "f6d43e25-c870-4dda-bf3c-1b351788e3fd"
      },
      "source": [
        "contoh_dict[\"Negara\"].append(\"Italy\")\n",
        "print(contoh_dict)"
      ],
      "execution_count": null,
      "outputs": [
        {
          "output_type": "stream",
          "name": "stdout",
          "text": [
            "{2: 'Ramadhany', 'Dua belas': 12, False: 12.0, 3.0: ['Eko', 'patrio'], 'Dict': {}, 333: (), 'Boolean': True, 'Negara': ['Indonesia', 'Italy']}\n"
          ]
        }
      ]
    },
    {
      "cell_type": "code",
      "metadata": {
        "id": "1nLfdHIxtvDM"
      },
      "source": [
        "capital = {}"
      ],
      "execution_count": null,
      "outputs": []
    },
    {
      "cell_type": "code",
      "metadata": {
        "id": "janVqdzetykN"
      },
      "source": [
        "capital[\"Ibu kota terkaya\"] = [\"Cikarang\"]"
      ],
      "execution_count": null,
      "outputs": []
    },
    {
      "cell_type": "code",
      "metadata": {
        "colab": {
          "base_uri": "https://localhost:8080/"
        },
        "id": "sEB07ip2t5BI",
        "outputId": "3cb5cdef-7891-4c0b-d8c1-30fbf779f254"
      },
      "source": [
        "print(capital)"
      ],
      "execution_count": null,
      "outputs": [
        {
          "output_type": "stream",
          "name": "stdout",
          "text": [
            "{'Ibu kota terkaya': ['Cikarang']}\n"
          ]
        }
      ]
    },
    {
      "cell_type": "code",
      "metadata": {
        "id": "s_xmMKpUt7hu"
      },
      "source": [
        "capital[\"Ibu kota terkaya\"].append(\"Bandung\")"
      ],
      "execution_count": null,
      "outputs": []
    },
    {
      "cell_type": "code",
      "metadata": {
        "colab": {
          "base_uri": "https://localhost:8080/"
        },
        "id": "nrr3eIgEuMzt",
        "outputId": "fb7b8abd-0bf1-412e-f3fb-37ca9bb79a20"
      },
      "source": [
        "print(capital)"
      ],
      "execution_count": null,
      "outputs": [
        {
          "output_type": "stream",
          "name": "stdout",
          "text": [
            "{'Ibu kota terkaya': ['Cikarang', 'Bandung']}\n"
          ]
        }
      ]
    },
    {
      "cell_type": "code",
      "metadata": {
        "colab": {
          "base_uri": "https://localhost:8080/"
        },
        "id": "xlbdtH12uRe2",
        "outputId": "bfe5569d-4ba0-49aa-9dc4-1eb4207c1abb"
      },
      "source": [
        "#Tuple list yang tidak bisa di sort\n",
        "contoh_tuple = (1,5,6,8,7,4,5,9)\n",
        "contoh_tuple"
      ],
      "execution_count": null,
      "outputs": [
        {
          "output_type": "execute_result",
          "data": {
            "text/plain": [
              "(1, 5, 6, 8, 7, 4, 5, 9)"
            ]
          },
          "metadata": {},
          "execution_count": 35
        }
      ]
    },
    {
      "cell_type": "code",
      "metadata": {
        "colab": {
          "base_uri": "https://localhost:8080/"
        },
        "id": "P67gf0eLuaUn",
        "outputId": "73c1fa4f-c508-4bf0-e21c-29f2a7747155"
      },
      "source": [
        "#set tidak bisa menerima data duplikasi\n",
        "contoh_set = set([7,8,9,5,\"Rama\", \"Rama\", 7])\n",
        "contoh_set"
      ],
      "execution_count": null,
      "outputs": [
        {
          "output_type": "execute_result",
          "data": {
            "text/plain": [
              "{5, 7, 8, 9, 'Rama'}"
            ]
          },
          "metadata": {},
          "execution_count": 36
        }
      ]
    },
    {
      "cell_type": "code",
      "metadata": {
        "colab": {
          "base_uri": "https://localhost:8080/",
          "height": 35
        },
        "id": "kOAfqxERu6H0",
        "outputId": "dc329f0f-3e00-4b5e-b1ec-14dd7d7f4cb3"
      },
      "source": [
        "#casting merubah typedata set menjadi list\n",
        "contoh_list = list(contoh_set)\n",
        "contoh_list[-1]"
      ],
      "execution_count": null,
      "outputs": [
        {
          "output_type": "execute_result",
          "data": {
            "application/vnd.google.colaboratory.intrinsic+json": {
              "type": "string"
            },
            "text/plain": [
              "'Rama'"
            ]
          },
          "metadata": {},
          "execution_count": 37
        }
      ]
    },
    {
      "cell_type": "code",
      "metadata": {
        "colab": {
          "base_uri": "https://localhost:8080/"
        },
        "id": "buxSq3pCvV2g",
        "outputId": "0e1669e7-179c-42cc-a035-eef63c243040"
      },
      "source": [
        "contoh_list"
      ],
      "execution_count": null,
      "outputs": [
        {
          "output_type": "execute_result",
          "data": {
            "text/plain": [
              "[5, 7, 8, 9, 'Rama']"
            ]
          },
          "metadata": {},
          "execution_count": 38
        }
      ]
    },
    {
      "cell_type": "code",
      "metadata": {
        "colab": {
          "base_uri": "https://localhost:8080/"
        },
        "id": "fheMlrOqvYJO",
        "outputId": "be59b329-603a-4332-825e-9ce55cb3c1bb"
      },
      "source": [
        "contoh_tuple = tuple(contoh_list)\n",
        "contoh_tuple"
      ],
      "execution_count": null,
      "outputs": [
        {
          "output_type": "execute_result",
          "data": {
            "text/plain": [
              "(5, 7, 8, 9, 'Rama')"
            ]
          },
          "metadata": {},
          "execution_count": 39
        }
      ]
    },
    {
      "cell_type": "code",
      "metadata": {
        "id": "fitDrZLDwVZG"
      },
      "source": [
        "contoh_tuple = tuple(contoh_list)"
      ],
      "execution_count": null,
      "outputs": []
    },
    {
      "cell_type": "code",
      "metadata": {
        "colab": {
          "base_uri": "https://localhost:8080/"
        },
        "id": "6WH1lmoPwbP3",
        "outputId": "ba3296d9-0827-473b-a7f7-2d46f1c44293"
      },
      "source": [
        "#sorted(contoh_tuple, reverse=True)\n",
        "help(sorted)"
      ],
      "execution_count": null,
      "outputs": [
        {
          "output_type": "stream",
          "name": "stdout",
          "text": [
            "Help on built-in function sorted in module builtins:\n",
            "\n",
            "sorted(iterable, /, *, key=None, reverse=False)\n",
            "    Return a new list containing all items from the iterable in ascending order.\n",
            "    \n",
            "    A custom key function can be supplied to customize the sort order, and the\n",
            "    reverse flag can be set to request the result in descending order.\n",
            "\n"
          ]
        }
      ]
    },
    {
      "cell_type": "code",
      "metadata": {
        "id": "_BQTUVhmxa4o"
      },
      "source": [
        "#conditional statement\n"
      ],
      "execution_count": null,
      "outputs": []
    },
    {
      "cell_type": "code",
      "metadata": {
        "id": "ZWH39xFSyHZ_",
        "colab": {
          "base_uri": "https://localhost:8080/",
          "height": 229
        },
        "outputId": "6b5f8f92-e499-4610-afc1-f691dad1a24e"
      },
      "source": [
        "#if else\n",
        "if a < b:\n",
        "  print(\"a lebih kecil dari b\")\n",
        "elif a > b:\n",
        "  print(\"a lebih besar dari b\")\n",
        "else:\n",
        "  print(\"a dan b sama\")"
      ],
      "execution_count": null,
      "outputs": [
        {
          "output_type": "error",
          "ename": "NameError",
          "evalue": "ignored",
          "traceback": [
            "\u001b[0;31m---------------------------------------------------------------------------\u001b[0m",
            "\u001b[0;31mNameError\u001b[0m                                 Traceback (most recent call last)",
            "\u001b[0;32m<ipython-input-2-852de40cadf7>\u001b[0m in \u001b[0;36m<module>\u001b[0;34m()\u001b[0m\n\u001b[1;32m      1\u001b[0m \u001b[0;31m#if else\u001b[0m\u001b[0;34m\u001b[0m\u001b[0;34m\u001b[0m\u001b[0;34m\u001b[0m\u001b[0m\n\u001b[0;32m----> 2\u001b[0;31m \u001b[0;32mif\u001b[0m \u001b[0ma\u001b[0m \u001b[0;34m<\u001b[0m \u001b[0mb\u001b[0m\u001b[0;34m:\u001b[0m\u001b[0;34m\u001b[0m\u001b[0;34m\u001b[0m\u001b[0m\n\u001b[0m\u001b[1;32m      3\u001b[0m   \u001b[0mprint\u001b[0m\u001b[0;34m(\u001b[0m\u001b[0;34m\"a lebih kecil dari b\"\u001b[0m\u001b[0;34m)\u001b[0m\u001b[0;34m\u001b[0m\u001b[0;34m\u001b[0m\u001b[0m\n\u001b[1;32m      4\u001b[0m \u001b[0;32melif\u001b[0m \u001b[0ma\u001b[0m \u001b[0;34m>\u001b[0m \u001b[0mb\u001b[0m\u001b[0;34m:\u001b[0m\u001b[0;34m\u001b[0m\u001b[0;34m\u001b[0m\u001b[0m\n\u001b[1;32m      5\u001b[0m   \u001b[0mprint\u001b[0m\u001b[0;34m(\u001b[0m\u001b[0;34m\"a lebih besar dari b\"\u001b[0m\u001b[0;34m)\u001b[0m\u001b[0;34m\u001b[0m\u001b[0;34m\u001b[0m\u001b[0m\n",
            "\u001b[0;31mNameError\u001b[0m: name 'a' is not defined"
          ]
        }
      ]
    },
    {
      "cell_type": "code",
      "metadata": {
        "colab": {
          "base_uri": "https://localhost:8080/"
        },
        "id": "l-gl2lNhyfGR",
        "outputId": "14c930d3-b5d0-488d-b154-5b4076d4c6e9"
      },
      "source": [
        "#looping\n",
        "# for\n",
        "for i in range(10):\n",
        "  print(i)\n"
      ],
      "execution_count": null,
      "outputs": [
        {
          "output_type": "stream",
          "name": "stdout",
          "text": [
            "0\n",
            "1\n",
            "2\n",
            "3\n",
            "4\n",
            "5\n",
            "6\n",
            "7\n",
            "8\n",
            "9\n"
          ]
        }
      ]
    },
    {
      "cell_type": "code",
      "metadata": {
        "colab": {
          "base_uri": "https://localhost:8080/"
        },
        "id": "3GKNb9Xrzsdw",
        "outputId": "112541b0-f9b2-4c8a-9bf5-354c2d3541f2"
      },
      "source": [
        "for i in range(20,0,-1):\n",
        "  print(i)"
      ],
      "execution_count": null,
      "outputs": [
        {
          "output_type": "stream",
          "name": "stdout",
          "text": [
            "20\n",
            "19\n",
            "18\n",
            "17\n",
            "16\n",
            "15\n",
            "14\n",
            "13\n",
            "12\n",
            "11\n",
            "10\n",
            "9\n",
            "8\n",
            "7\n",
            "6\n",
            "5\n",
            "4\n",
            "3\n",
            "2\n",
            "1\n"
          ]
        }
      ]
    },
    {
      "cell_type": "code",
      "metadata": {
        "colab": {
          "base_uri": "https://localhost:8080/"
        },
        "id": "1UBuMbIv0SmQ",
        "outputId": "6c5c1f00-87b1-41d3-b87f-4014cd61e718"
      },
      "source": [
        "#while\n",
        "\n",
        "a = 0 \n",
        "while a<20:\n",
        "  print(\"a lebih masih kecil darii 20 : {}\".format(a))\n",
        "  a+=1"
      ],
      "execution_count": null,
      "outputs": [
        {
          "output_type": "stream",
          "name": "stdout",
          "text": [
            "a lebih masih kecil darii 20 : 0\n",
            "a lebih masih kecil darii 20 : 1\n",
            "a lebih masih kecil darii 20 : 2\n",
            "a lebih masih kecil darii 20 : 3\n",
            "a lebih masih kecil darii 20 : 4\n",
            "a lebih masih kecil darii 20 : 5\n",
            "a lebih masih kecil darii 20 : 6\n",
            "a lebih masih kecil darii 20 : 7\n",
            "a lebih masih kecil darii 20 : 8\n",
            "a lebih masih kecil darii 20 : 9\n",
            "a lebih masih kecil darii 20 : 10\n",
            "a lebih masih kecil darii 20 : 11\n",
            "a lebih masih kecil darii 20 : 12\n",
            "a lebih masih kecil darii 20 : 13\n",
            "a lebih masih kecil darii 20 : 14\n",
            "a lebih masih kecil darii 20 : 15\n",
            "a lebih masih kecil darii 20 : 16\n",
            "a lebih masih kecil darii 20 : 17\n",
            "a lebih masih kecil darii 20 : 18\n",
            "a lebih masih kecil darii 20 : 19\n"
          ]
        }
      ]
    },
    {
      "cell_type": "code",
      "metadata": {
        "colab": {
          "base_uri": "https://localhost:8080/"
        },
        "id": "nz_1OrmP0mMG",
        "outputId": "0b5ef2d7-c3b0-40ec-bbc3-ec9dbaf3e2a5"
      },
      "source": [
        "#break15\n",
        "\n",
        "while True:\n",
        "  umur = int(input())\n",
        "  if umur >= 17:\n",
        "    break"
      ],
      "execution_count": null,
      "outputs": [
        {
          "name": "stdout",
          "output_type": "stream",
          "text": [
            "14\n",
            "52\n"
          ]
        }
      ]
    },
    {
      "cell_type": "code",
      "metadata": {
        "colab": {
          "base_uri": "https://localhost:8080/"
        },
        "id": "Ile_UW891W7H",
        "outputId": "cc75fb40-cb3c-4186-8b65-55daec135df4"
      },
      "source": [
        "#continue\n",
        "while True:\n",
        "  umur = int(input())\n",
        "  if umur == 17:\n",
        "    continue\n",
        "  elif umur > 17:\n",
        "    break\n",
        "  print(\"umur masih di bawah 17 tahun\")"
      ],
      "execution_count": null,
      "outputs": [
        {
          "name": "stdout",
          "output_type": "stream",
          "text": [
            "15\n",
            "umur masih di bawah 17 tahun\n",
            "85\n"
          ]
        }
      ]
    },
    {
      "cell_type": "code",
      "metadata": {
        "id": "apuHI-q21SbY"
      },
      "source": [
        "list_nilai = [1,5,4,8,7,5,9]\n",
        "for nilai in list_nilai:\n",
        "  if nilai == 0:\n",
        "    print(\"nilai ada yang 0\")"
      ],
      "execution_count": null,
      "outputs": []
    },
    {
      "cell_type": "code",
      "metadata": {
        "colab": {
          "base_uri": "https://localhost:8080/"
        },
        "id": "_s_Z1hug2iF6",
        "outputId": "d79e4c0d-7231-4657-c4cb-da9b8e7f8039"
      },
      "source": [
        "for i in range(10):\n",
        "  print(i)\n",
        "else:\n",
        "  print(\"Aku akan di print ketika break tidak tereksekusi\")"
      ],
      "execution_count": null,
      "outputs": [
        {
          "output_type": "stream",
          "name": "stdout",
          "text": [
            "0\n",
            "1\n",
            "2\n",
            "3\n",
            "4\n",
            "5\n",
            "6\n",
            "7\n",
            "8\n",
            "9\n",
            "Aku akan di print ketika break tidak tereksekusi\n"
          ]
        }
      ]
    },
    {
      "cell_type": "code",
      "metadata": {
        "colab": {
          "base_uri": "https://localhost:8080/"
        },
        "id": "0K1go-t32v-v",
        "outputId": "46c2f847-90ba-4dc2-db8c-27c9586bc0d1"
      },
      "source": [
        "for i in range(10):\n",
        "  print(i)\n",
        "  if i == 8:\n",
        "    break\n",
        "else:\n",
        "  print(\"Aku akan di print ketika break tidak tereksekusi\")"
      ],
      "execution_count": null,
      "outputs": [
        {
          "output_type": "stream",
          "name": "stdout",
          "text": [
            "0\n",
            "1\n",
            "2\n",
            "3\n",
            "4\n",
            "5\n",
            "6\n",
            "7\n",
            "8\n"
          ]
        }
      ]
    },
    {
      "cell_type": "code",
      "metadata": {
        "id": "HUhc7ROG51AF"
      },
      "source": [
        ""
      ],
      "execution_count": null,
      "outputs": []
    }
  ]
}
